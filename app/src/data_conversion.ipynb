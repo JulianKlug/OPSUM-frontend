{
 "cells": [
  {
   "cell_type": "code",
   "id": "initial_id",
   "metadata": {
    "collapsed": true,
    "ExecuteTime": {
     "end_time": "2024-07-19T21:02:46.745388Z",
     "start_time": "2024-07-19T21:02:46.742422Z"
    }
   },
   "source": [
    "import pandas as pd\n",
    "import numpy as np"
   ],
   "outputs": [],
   "execution_count": 6
  },
  {
   "metadata": {
    "ExecuteTime": {
     "end_time": "2024-07-19T21:02:47.059630Z",
     "start_time": "2024-07-19T21:02:47.055964Z"
    }
   },
   "cell_type": "code",
   "source": [
    "p1_data_path = '/Users/jk1/temp/opsum_frontend/non_norm_subj_df_20.csv'\n",
    "p2_data_path = '/Users/jk1/temp/opsum_frontend/non_norm_subj_df_32.csv'\n",
    "p3_data_path = '/Users/jk1/temp/opsum_frontend/non_norm_subj_df_54.csv'\n",
    "p4_data_path = '/Users/jk1/temp/opsum_frontend/non_norm_subj_df_449.csv'\n",
    "\n",
    "p1_pred_path = '/Users/jk1/temp/opsum_frontend/subj_pred_over_ts_20.csv'\n",
    "p2_pred_path = '/Users/jk1/temp/opsum_frontend/subj_pred_over_ts_32.csv'\n",
    "p3_pred_path = '/Users/jk1/temp/opsum_frontend/subj_pred_over_ts_54.csv'\n",
    "p4_pred_path = '/Users/jk1/temp/opsum_frontend/subj_pred_over_ts_449.csv'\n",
    "\n",
    "p1_shap_values_path = '/Users/jk1/temp/opsum_frontend/working_shap_values_20.csv'\n",
    "p2_shap_values_path = '/Users/jk1/temp/opsum_frontend/working_shap_values_32.csv'\n",
    "p3_shap_values_path = '/Users/jk1/temp/opsum_frontend/working_shap_values_54.csv'\n",
    "p4_shap_values_path = '/Users/jk1/temp/opsum_frontend/working_shap_values_449.csv'"
   ],
   "id": "bceb0451f791f95b",
   "outputs": [],
   "execution_count": 7
  },
  {
   "metadata": {
    "ExecuteTime": {
     "end_time": "2024-07-19T20:38:13.957465Z",
     "start_time": "2024-07-19T20:38:13.953629Z"
    }
   },
   "cell_type": "code",
   "source": [
    "def add_random_variation(data):\n",
    "    boolean_columns = ['time_step', 'Anticoagulants',\n",
    "           'Antihypert. drugs pre-stroke', 'Antiplatelet drugs',\n",
    "           'Atrial fibrillation', 'Coronary artery disease', 'Diabetes', 'History of cerebrovascular events', 'Hyperlipidemia',\n",
    "           'Hypertension', 'IAT timing', 'IVT timing', 'Lipid lowering drugs pre-stroke', 'Onset to admission time', 'Peripheral artery disease', 'Prestroke disability (Rankin)', 'Referral', 'Sex', 'Smoking', 'Wake up stroke']\n",
    "    # for all columns except boolean_columns, add a random number between - value / 100 and  + value / 100\n",
    "    for column in data.columns:\n",
    "        if column not in boolean_columns:\n",
    "            data[column] = data[column] + data[column] * (2 * np.random.rand() - 1) / 100\n",
    "            \n",
    "            \n",
    "    return data"
   ],
   "id": "8f69d75ad17b2699",
   "outputs": [],
   "execution_count": 3
  },
  {
   "metadata": {
    "ExecuteTime": {
     "end_time": "2024-07-17T14:35:50.726751Z",
     "start_time": "2024-07-17T14:35:50.661346Z"
    }
   },
   "cell_type": "code",
   "source": [
    "# # read data and save as json\n",
    "for i, path in enumerate([p1_data_path, p2_data_path, p3_data_path, p4_data_path]):\n",
    "    data = pd.read_csv(path)\n",
    "    data = add_random_variation(data)\n",
    "    data.to_json(f'/Users/jk1/temp/opsum_frontend/non_norm_subj_df_p{i + 1}.json', orient='records')"
   ],
   "id": "a0fd0aa2918ce16",
   "outputs": [],
   "execution_count": 15
  },
  {
   "metadata": {
    "ExecuteTime": {
     "end_time": "2024-07-17T15:42:53.590244Z",
     "start_time": "2024-07-17T15:42:53.576680Z"
    }
   },
   "cell_type": "code",
   "source": [
    "for i, path in enumerate([p1_pred_path, p2_pred_path, p3_pred_path, p4_pred_path]):\n",
    "    data = pd.read_csv(path)\n",
    "    data.to_json(f'/Users/jk1/temp/opsum_frontend/subj_functional_pred_over_ts_p{i + 1}.json', orient='records')\n",
    "   "
   ],
   "id": "f40d389599ccf0f",
   "outputs": [],
   "execution_count": 38
  },
  {
   "metadata": {
    "ExecuteTime": {
     "end_time": "2024-07-19T21:02:58.318239Z",
     "start_time": "2024-07-19T21:02:58.290381Z"
    }
   },
   "cell_type": "code",
   "source": [
    "for i, path in enumerate([p1_shap_values_path, p2_shap_values_path, p3_shap_values_path, p4_shap_values_path]):\n",
    "    data = pd.read_csv(path)\n",
    "    data.to_json(f'/Users/jk1/temp/opsum_frontend/working_shap_values_p{i + 1}.json', orient='records')"
   ],
   "id": "4218b32da59e0282",
   "outputs": [],
   "execution_count": 8
  },
  {
   "metadata": {},
   "cell_type": "code",
   "outputs": [],
   "execution_count": null,
   "source": "",
   "id": "900494fe9c9774ab"
  }
 ],
 "metadata": {
  "kernelspec": {
   "display_name": "Python 3",
   "language": "python",
   "name": "python3"
  },
  "language_info": {
   "codemirror_mode": {
    "name": "ipython",
    "version": 2
   },
   "file_extension": ".py",
   "mimetype": "text/x-python",
   "name": "python",
   "nbconvert_exporter": "python",
   "pygments_lexer": "ipython2",
   "version": "2.7.6"
  }
 },
 "nbformat": 4,
 "nbformat_minor": 5
}
